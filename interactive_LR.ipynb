{
 "cells": [
  {
   "cell_type": "code",
   "execution_count": 1,
   "metadata": {},
   "outputs": [],
   "source": [
    "import numpy as np\n",
    "import matplotlib.pyplot as plt\n",
    "from sklearn.linear_model import LinearRegression\n",
    "from ipywidgets import interact, IntSlider, FloatSlider\n",
    "import importlib.metadata"
   ]
  },
  {
   "cell_type": "code",
   "execution_count": 2,
   "metadata": {},
   "outputs": [
    {
     "data": {
      "application/vnd.jupyter.widget-view+json": {
       "model_id": "aafefceb738b43cc8087f7ccb372075d",
       "version_major": 2,
       "version_minor": 0
      },
      "text/plain": [
       "interactive(children=(IntSlider(value=50, description='Samples', max=200, min=10, step=10), FloatSlider(value=…"
      ]
     },
     "metadata": {},
     "output_type": "display_data"
    },
    {
     "data": {
      "text/plain": [
       "<function __main__.plot_regression(n_samples=50, noise=0.1)>"
      ]
     },
     "execution_count": 2,
     "metadata": {},
     "output_type": "execute_result"
    }
   ],
   "source": [
    "def generate_data(n_samples=50, noise=0.1):\n",
    "    np.random.seed(42)\n",
    "    X = np.sort(10 * np.random.rand(n_samples, 1), axis=0)\n",
    "    y = 2 * X + 1 + noise * np.random.randn(n_samples, 1)  # y = 2x + 1 + noise\n",
    "    return X, y\n",
    "\n",
    "def plot_regression(n_samples=50, noise=0.1):\n",
    "    X, y = generate_data(n_samples, noise)\n",
    "    \n",
    "    model = LinearRegression()\n",
    "    model.fit(X, y)\n",
    "    y_pred = model.predict(X)\n",
    "    \n",
    "    plt.figure(figsize=(8, 5))\n",
    "    plt.scatter(X, y, color='blue', label='Data Points')\n",
    "    plt.plot(X, y_pred, color='red', linewidth=2, label='Regression Line')\n",
    "    plt.xlabel(\"X\")\n",
    "    plt.ylabel(\"y\")\n",
    "    plt.title(f\"Linear Regression with {n_samples} Samples and Noise={noise}\")\n",
    "    plt.legend()\n",
    "    plt.show()\n",
    "\n",
    "interact(plot_regression, \n",
    "         n_samples=IntSlider(min=10, max=200, step=10, value=50, description='Samples'),\n",
    "         noise=FloatSlider(min=0.0, max=2.0, step=0.1, value=0.1, description='Noise'))"
   ]
  },
  {
   "cell_type": "code",
   "execution_count": 3,
   "metadata": {},
   "outputs": [
    {
     "name": "stdout",
     "output_type": "stream",
     "text": [
      "numpy==1.26.2\n",
      "matplotlib==3.8.2\n",
      "scikit-learn==1.3.2\n",
      "ipywidgets==8.1.5\n"
     ]
    }
   ],
   "source": [
    "def list_requirements():\n",
    "    libraries = [\"numpy\", \"matplotlib\", \"scikit-learn\", \"ipywidgets\"]\n",
    "    for lib in libraries:\n",
    "        version = importlib.metadata.version(lib)\n",
    "        print(f\"{lib}=={version}\")\n",
    "\n",
    "list_requirements()"
   ]
  },
  {
   "cell_type": "code",
   "execution_count": 4,
   "metadata": {},
   "outputs": [
    {
     "data": {
      "application/vnd.jupyter.widget-view+json": {
       "model_id": "fda0a72dd434486aa9c45ad6dfb3b866",
       "version_major": 2,
       "version_minor": 0
      },
      "text/plain": [
       "interactive(children=(IntSlider(value=50, description='Samples', max=200, min=10, step=10), IntSlider(value=2,…"
      ]
     },
     "metadata": {},
     "output_type": "display_data"
    },
    {
     "name": "stdout",
     "output_type": "stream",
     "text": [
      "numpy==1.26.2\n",
      "matplotlib==3.8.2\n",
      "scikit-learn==1.3.2\n",
      "ipywidgets==8.1.5\n"
     ]
    }
   ],
   "source": [
    "import numpy as np\n",
    "import matplotlib.pyplot as plt\n",
    "from sklearn.preprocessing import PolynomialFeatures\n",
    "from sklearn.linear_model import LinearRegression\n",
    "from sklearn.pipeline import make_pipeline\n",
    "from ipywidgets import interact, IntSlider, FloatSlider\n",
    "import importlib.metadata\n",
    "\n",
    "def generate_data(n_samples=50, degree=2, noise=0.1):\n",
    "    np.random.seed(42)\n",
    "    X = np.sort(10 * np.random.rand(n_samples, 1), axis=0)\n",
    "    y = sum([(i + 1) * X**i for i in range(degree)]) + np.random.normal(0, noise, size=(n_samples, 1))\n",
    "    return X, y\n",
    "\n",
    "def plot_polynomial_regression(n_samples=50, degree=2, noise=0.1):\n",
    "    X, y = generate_data(n_samples, degree, noise)\n",
    "    \n",
    "    model = make_pipeline(PolynomialFeatures(degree), LinearRegression())\n",
    "    model.fit(X, y)\n",
    "    y_pred = model.predict(X)\n",
    "    \n",
    "    plt.figure(figsize=(8, 5))\n",
    "    plt.scatter(X, y, color='blue', label='Data Points')\n",
    "    plt.plot(X, y_pred, color='red', linewidth=2, label=f'Polynomial Regression (Degree {degree})')\n",
    "    plt.xlabel(\"X\")\n",
    "    plt.ylabel(\"y\")\n",
    "    plt.title(f\"Polynomial Regression with {n_samples} Samples, Degree {degree}, Noise {noise}\")\n",
    "    plt.legend()\n",
    "    plt.show()\n",
    "\n",
    "interact(plot_polynomial_regression, \n",
    "         n_samples=IntSlider(min=10, max=200, step=10, value=50, description='Samples'),\n",
    "         degree=IntSlider(min=1, max=10, step=1, value=2, description='Degree'),\n",
    "         noise=FloatSlider(min=0.0, max=2.0, step=0.1, value=0.1, description='Noise'))\n",
    "\n",
    "def list_requirements():\n",
    "    libraries = [\"numpy\", \"matplotlib\", \"scikit-learn\", \"ipywidgets\"]\n",
    "    for lib in libraries:\n",
    "        version = importlib.metadata.version(lib)\n",
    "        print(f\"{lib}=={version}\")\n",
    "\n",
    "list_requirements()\n"
   ]
  },
  {
   "cell_type": "code",
   "execution_count": 5,
   "metadata": {},
   "outputs": [
    {
     "data": {
      "application/vnd.jupyter.widget-view+json": {
       "model_id": "d562e56cf45849809a3622b05a6bd4f3",
       "version_major": 2,
       "version_minor": 0
      },
      "text/plain": [
       "interactive(children=(IntSlider(value=2, description='Degree', max=10, min=1), IntSlider(value=50, description…"
      ]
     },
     "metadata": {},
     "output_type": "display_data"
    },
    {
     "data": {
      "text/plain": [
       "<function __main__.interactive_regression(degree=2, n_samples=50, noise=0.1)>"
      ]
     },
     "execution_count": 5,
     "metadata": {},
     "output_type": "execute_result"
    }
   ],
   "source": [
    "import numpy as np\n",
    "import matplotlib.pyplot as plt\n",
    "from ipywidgets import interact, IntSlider, FloatSlider\n",
    "\n",
    "class MyLinRegression:\n",
    "    def __init__(self, degree, n_samples, noise):\n",
    "        self.degree = degree\n",
    "        self.n_samples = n_samples\n",
    "        self.noise = noise\n",
    "        self.x_train, self.y_train = self.generate_data()\n",
    "        self.x_pred = np.linspace(min(self.x_train), max(self.x_train), 100)\n",
    "        self.beta = np.zeros(degree + 1)\n",
    "        self.X = np.zeros((len(self.x_train), degree + 1))\n",
    "        self.M = np.zeros((degree + 1, degree + 1))\n",
    "\n",
    "    def generate_data(self):\n",
    "        np.random.seed(42)\n",
    "        x_train = np.sort(10 * np.random.rand(self.n_samples))\n",
    "        y_train = sum([(i + 1) * x_train**i for i in range(self.degree)])\n",
    "        y_train += np.random.normal(0, self.noise, size=len(x_train))\n",
    "        return x_train, y_train\n",
    "\n",
    "    def assemble_data_matrix(self):\n",
    "        for i in range(len(self.x_train)):\n",
    "            for j in range(self.degree + 1):\n",
    "                self.X[i, j] = self.x_train[i]**j\n",
    "\n",
    "    def compute_moment_matrix(self):\n",
    "        self.M = np.matmul(self.X.T, self.X)\n",
    "\n",
    "    def solve(self):\n",
    "        XT_y = np.dot(self.y_train, self.X)\n",
    "        self.beta = np.matmul(np.linalg.pinv(self.M), XT_y)\n",
    "\n",
    "    def polynomial_ansatz(self, x_i):\n",
    "        y_ansatz = sum(self.beta[j] * x_i**j for j in range(self.degree + 1))\n",
    "        return y_ansatz\n",
    "\n",
    "    def plot_data_and_curve(self):\n",
    "        self.assemble_data_matrix()\n",
    "        self.compute_moment_matrix()\n",
    "        self.solve()\n",
    "        y_pred = self.polynomial_ansatz(self.x_pred)\n",
    "        \n",
    "        plt.figure(figsize=(8, 5))\n",
    "        plt.scatter(self.x_train, self.y_train, color='blue', label='Data Points')\n",
    "        plt.plot(self.x_pred, y_pred, color='red', linewidth=2, label=f'Polynomial Regression (Degree {self.degree})')\n",
    "        plt.xlabel(\"X\")\n",
    "        plt.ylabel(\"y\")\n",
    "        plt.title(f\"Polynomial Regression with {self.n_samples} Samples, Degree {self.degree}, Noise {self.noise}\")\n",
    "        plt.legend()\n",
    "        plt.show()\n",
    "\n",
    "def interactive_regression(degree=2, n_samples=50, noise=0.1):\n",
    "    model = MyLinRegression(degree, n_samples, noise)\n",
    "    model.plot_data_and_curve()\n",
    "\n",
    "interact(interactive_regression, \n",
    "         degree=IntSlider(min=1, max=10, step=1, value=2, description='Degree'),\n",
    "         n_samples=IntSlider(min=10, max=200, step=10, value=50, description='Samples'),\n",
    "         noise=FloatSlider(min=0.0, max=2.0, step=0.1, value=0.1, description='Noise'))\n"
   ]
  },
  {
   "cell_type": "code",
   "execution_count": 6,
   "metadata": {},
   "outputs": [
    {
     "data": {
      "image/png": "[encoded data removed]",
      "text/plain": [
       "<Figure size 640x480 with 1 Axes>"
      ]
     },
     "metadata": {},
     "output_type": "display_data"
    }
   ],
   "source": [
    "import numpy as np\n",
    "import matplotlib.pyplot as plt\n",
    "from sklearn.linear_model import LinearRegression\n",
    "from sklearn.preprocessing import PolynomialFeatures\n",
    "degree_poly = 1\n",
    "noise = 1\n",
    "n_samples = 10\n",
    "X = 4 * np.random.rand(n_samples,1) - 2   #x timmeline increased instead of just 0 to 1 values, we get -2,2\n",
    "#print(X)\n",
    "#y = np.random.rand(n_samples)\n",
    "#X = np.random.rand(n_samples, 1)\n",
    "y = sum((i + 1) * X**i for i in range(degree_poly + 1)) + noise * np.random.randn(n_samples,1)\n",
    "#y = 4 + 2 * X + 5 * X**2 + 6 * X**3 + 8*np.random.randn(100,1)\n",
    "\n",
    "poly_features = PolynomialFeatures(degree = 5, include_bias= False)  #polynomial ansatz\n",
    "X_poly = poly_features.fit_transform(X)\n",
    "\n",
    "reg = LinearRegression()\n",
    "reg.fit(X_poly,y)\n",
    "\n",
    "X_vals = np.linspace(-2,2,100).reshape(-1,1)\n",
    "X_vals_poly = poly_features.transform(X_vals)\n",
    "\n",
    "y_vals = reg.predict(X_vals_poly)\n",
    "\n",
    "\n",
    "plt.scatter(X,y)\n",
    "plt.plot(X_vals, y_vals, color = \"r\")\n",
    "plt.show()"
   ]
  },
  {
   "cell_type": "code",
   "execution_count": 7,
   "metadata": {},
   "outputs": [
    {
     "name": "stdout",
     "output_type": "stream",
     "text": [
      "numpy==1.26.2\n",
      "matplotlib==3.8.2\n",
      "scikit-learn==1.3.2\n",
      "ipywidgets==8.1.5\n"
     ]
    },
    {
     "data": {
      "application/vnd.jupyter.widget-view+json": {
       "model_id": "13a7e9436fec411780306784e1a5c86f",
       "version_major": 2,
       "version_minor": 0
      },
      "text/plain": [
       "interactive(children=(IntSlider(value=50, description='Samples', max=200, min=10, step=10), IntSlider(value=1,…"
      ]
     },
     "metadata": {},
     "output_type": "display_data"
    },
    {
     "data": {
      "text/plain": [
       "<function __main__.plot_polynomial_regression(n_samples=50, degree_poly=2, degree=2, noise=0.1)>"
      ]
     },
     "execution_count": 7,
     "metadata": {},
     "output_type": "execute_result"
    }
   ],
   "source": [
    "\n",
    "import numpy as np\n",
    "import matplotlib.pyplot as plt\n",
    "from sklearn.linear_model import LinearRegression\n",
    "from sklearn.preprocessing import PolynomialFeatures\n",
    "def generate_data(n_samples=50, degree_poly= 1, noise=0.1):\n",
    "    np.random.seed(42)\n",
    "    X = 4 * np.random.rand(n_samples,1) - 2\n",
    "    y = sum([(i + 1) * X**i for i in range(degree_poly + 1)]) + noise * np.random.randn(n_samples,1)\n",
    "    return X, y\n",
    "\n",
    "def plot_polynomial_regression(n_samples=50, degree_poly = 2, degree=2, noise=0.1):\n",
    "    X, y = generate_data(n_samples, degree_poly, noise)\n",
    "    poly_features = PolynomialFeatures(degree, include_bias = False)\n",
    "    X_poly = poly_features.fit_transform(X)\n",
    "    reg = LinearRegression()\n",
    "    reg.fit(X_poly, y)\n",
    "\n",
    "    X_vals = np.linspace(-2,2,100).reshape(-1,1)\n",
    "    X_vals_poly = poly_features.transform(X_vals)\n",
    "    y_vals = reg.predict(X_vals_poly)\n",
    "\n",
    "    \n",
    "    #model = make_pipeline(PolynomialFeatures(degree), LinearRegression())\n",
    "    #model.fit(X, y)\n",
    "    #y_pred = model.predict(X)\n",
    "    \n",
    "    plt.figure(figsize=(8, 5))\n",
    "    plt.scatter(X, y, color='blue', label='Data Points')\n",
    "    plt.plot(X_vals, y_vals, color='red', linewidth=2, label=f'Polynomial Regression (Degree {degree})')\n",
    "    plt.xlabel(\"X\")\n",
    "    plt.ylabel(\"y\")\n",
    "    plt.title(f\"Polynomial Regression with {n_samples} Samples, Degree {degree}, Noise {noise}\")\n",
    "    plt.legend()\n",
    "    plt.show()\n",
    "def list_requirements():\n",
    "    libraries = [\"numpy\", \"matplotlib\", \"scikit-learn\", \"ipywidgets\"]\n",
    "    for lib in libraries:\n",
    "        version = importlib.metadata.version(lib)\n",
    "        print(f\"{lib}=={version}\")\n",
    "\n",
    "list_requirements()\n",
    "\n",
    "    \n",
    "interact(plot_polynomial_regression, \n",
    "         n_samples=IntSlider(min=10, max=200, step=10, value=50, description='Samples'),\n",
    "         degree=IntSlider(min=1, max=10, step=1, value=2, description='Degree'),\n",
    "         noise=FloatSlider(min=0.0, max=10.0, step=0.3, value=0.3, description='Noise'),\n",
    "         degree_poly = IntSlider(min= 1, max = 10, step = 1, value =1 , description = 'Degree of Polynomial')\n",
    "         )"
   ]
  }
 ],
 "metadata": {
  "kernelspec": {
   "display_name": "Python 3",
   "language": "python",
   "name": "python3"
  },
  "language_info": {
   "codemirror_mode": {
    "name": "ipython",
    "version": 3
   },
   "file_extension": ".py",
   "mimetype": "text/x-python",
   "name": "python",
   "nbconvert_exporter": "python",
   "pygments_lexer": "ipython3",
   "version": "3.12.0"
  }
 },
 "nbformat": 4,
 "nbformat_minor": 2
}
