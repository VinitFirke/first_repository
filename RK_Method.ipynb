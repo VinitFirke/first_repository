{
 "cells": [
  {
   "cell_type": "markdown",
   "id": "831b025c",
   "metadata": {},
   "source": [
    "# Taylor Series and Euler Scheme\n",
    "\n",
    "In the context of the numerical solution of ordinary or partial diffential equations, the second more significant approximation comes from that the computer resources are limited. From the physical point of view, both time and space are continuous variables, but continuous data does not exist in the numerical world, as it would require infinite computer memory. Therefore, continuous variables are approximated using a discrete representation. For that purpose, we can for example introduce grid points at which the functions are evaluated. A small grid spacing results in a higher accuracy, but it comes at a higher computational cost. Some balance always has to be found.\n",
    "\n",
    "\n",
    "\n",
    "\n"
   ]
  },
  {
   "cell_type": "code",
   "execution_count": 14,
   "id": "57e1fe66",
   "metadata": {},
   "outputs": [],
   "source": [
    "from IPython.display import display, Math, Latex"
   ]
  },
  {
   "cell_type": "code",
   "execution_count": 16,
   "id": "ddf63f7c",
   "metadata": {},
   "outputs": [
    {
     "data": {
      "text/latex": [
       "\n",
       " $$y(t + h)\\approx y(t)+y'(t)h+\\frac{y''(t)}{2!}h^2+\\dots + \\frac{y^{(k)}(t)}{k!}h^k  + \\mathcal{O}(h^{k+1})$$\n"
      ],
      "text/plain": [
       "<IPython.core.display.Latex object>"
      ]
     },
     "metadata": {},
     "output_type": "display_data"
    }
   ],
   "source": [
    "display(Latex(r\"\"\"\n",
    " $$y(t + h)\\approx y(t)+y'(t)h+\\frac{y''(t)}{2!}h^2+\\dots + \\frac{y^{(k)}(t)}{k!}h^k  + \\mathcal{O}(h^{k+1})$$\n",
    "\"\"\"))"
   ]
  },
  {
   "cell_type": "code",
   "execution_count": 15,
   "id": "2e80e359",
   "metadata": {},
   "outputs": [
    {
     "data": {
      "text/latex": [
       "is of the order $k+1$."
      ],
      "text/plain": [
       "<IPython.core.display.Latex object>"
      ]
     },
     "metadata": {},
     "output_type": "display_data"
    }
   ],
   "source": [
    "display(Latex((r\"is of the order $k+1$.\")))"
   ]
  },
  {
   "cell_type": "code",
   "execution_count": 20,
   "id": "adfd0176",
   "metadata": {},
   "outputs": [
    {
     "data": {
      "text/latex": [
       "\n",
       "is of the order $k+1$. Importantly, this implies that the remainder is at least reduced by a factor of $2^{k+1}$ if $h$ is divided by 2. \n",
       "Taking the above Taylor series, we can neglect the 2nd-order derivatives and higher to get the Forward Euler Method – also known as Explicit Euler – as the next iteration solely depends on the previous one.\n"
      ],
      "text/plain": [
       "<IPython.core.display.Latex object>"
      ]
     },
     "metadata": {},
     "output_type": "display_data"
    },
    {
     "data": {
      "text/latex": [
       "\n",
       "$$y(t + h) = y(t) + h \\cdot y'(t)$$\n"
      ],
      "text/plain": [
       "<IPython.core.display.Latex object>"
      ]
     },
     "metadata": {},
     "output_type": "display_data"
    }
   ],
   "source": [
    "display(Latex(r\"\"\"\n",
    "is of the order $k+1$. Importantly, this implies that the remainder is at least reduced by a factor of $2^{k+1}$ if $h$ is divided by 2. \n",
    "Taking the above Taylor series, we can neglect the 2nd-order derivatives and higher to get the Forward Euler Method – also known as Explicit Euler – as the next iteration solely depends on the previous one.\n",
    "\"\"\"))\n",
    "\n",
    "display(Latex(r\"\"\"\n",
    "$$y(t + h) = y(t) + h \\cdot y'(t)$$\n",
    "\"\"\"))"
   ]
  },
  {
   "cell_type": "markdown",
   "id": "9f864352",
   "metadata": {},
   "source": [
    "is of the order $k+1$.\n",
    "\n",
    "Importantly, this implies that the remainder is atleast reduced by a factor of $2^{K+1}$ if $h$ is divided by 2. \n",
    "\n",
    "\n",
    "Begin with the Euler Methods and its drawback. - Derive the Euler method.\n",
    "Taking the above taylor series, we can neglect the 2nd order derviates and higher to get Forward Euler Method- also known as Explicit Euler, as the next iteration solely depends on previous one.\n",
    "\n",
    "\\begin{equation} y(t + dt) = y(t) + h.y'(t) \\end{equation} \n",
    "where h is the distance between grid points.\n",
    "\n",
    "Alternatively, in terms of numerical approximation, Forward Euler can be written as\n",
    "\n",
    "\\begin{equation} y_{i+1} = y_i + h.f(t_i, y_i) \\end{equation} \n",
    "where, $y_i$ is the approximation of the function at $t_i$ and $h$ is the grid distance kept constant.\n",
    "\n",
    "Similarly, there exists Backwards Euler or Implicit Euler Method given as:\n",
    "\n",
    "\\begin{equation} y_{i+1} = y_i + hf(t_{i+1}, y_{i+1}) \\end{equation}\n",
    "\n",
    "The advantage of implicit schemes over explicit ones is that usually they allow a larger time step to be stable. They are then useful when dealing with a stiff problem. The problem is called stiff if its solution varies rapidly in time, so that certain numerical schemes require an extremely small time step for stability.\n",
    "\n",
    "Both forward and backward Euler is of the consistency of order 1, i.e $\\mathcal{O(h^1)}$\n",
    "\n",
    "We will now look at the difference between these two methods by taking a simple radioactive decay example:\n",
    "The one-step advancement is given by:\n",
    "\\begin{equation} y_{i+1} = (1+\\alpha h)^{-1}y_i \\end{equation}"
   ]
  },
  {
   "cell_type": "code",
   "execution_count": null,
   "id": "807a918f",
   "metadata": {},
   "outputs": [
    {
     "data": {
      "text/latex": [
       " \\begin{equation} y_{i+1} = y_i + h.f(t_i, y_i) \\end{equation} \n",
       "where, $y_i$ is the approximation of the function at $t_i$ and $h$ is the grid distance kept constant."
      ],
      "text/plain": [
       "<IPython.core.display.Latex object>"
      ]
     },
     "metadata": {},
     "output_type": "display_data"
    }
   ],
   "source": [
    "display(Latex(r\"\"\" \\begin{equation} y_{i+1} = y_i + h.f(t_i, y_i) \\end{equation} \n",
    "where, $y_i$ is the approximation of the function at $t_i$ and $h$ is the grid distance kept constant.\"\"\"))"
   ]
  },
  {
   "cell_type": "code",
   "execution_count": 23,
   "id": "560f466a",
   "metadata": {},
   "outputs": [
    {
     "data": {
      "text/latex": [
       "Similarly, there exists Backwards Euler or Implicit Euler Method given as:\n",
       "\n",
       "$$y_{i+1} = y_i + hf(t_{i+1}, y_{i+1})$$"
      ],
      "text/plain": [
       "<IPython.core.display.Latex object>"
      ]
     },
     "metadata": {},
     "output_type": "display_data"
    }
   ],
   "source": [
    "display(Latex(r\"\"\"Similarly, there exists Backwards Euler or Implicit Euler Method given as:\n",
    "\n",
    "$$y_{i+1} = y_i + hf(t_{i+1}, y_{i+1})$$\"\"\"))"
   ]
  },
  {
   "cell_type": "code",
   "execution_count": null,
   "id": "fd3240ed",
   "metadata": {},
   "outputs": [],
   "source": [
    "display(Latex(r\"\"\"The advantage of implicit schemes over explicit ones is that usually they allow a larger time step to be stable. They are then useful when dealing with a stiff problem. The problem is called stiff if its solution varies rapidly in time, so that certain numerical schemes require an extremely small time step for stability.\n",
    "\n",
    "Both forward and backward Euler is of the consistency of order 1, i.e $\\mathcal{O(h^1)}$\n",
    "\n",
    "We will now look at the difference between these two methods by taking a simple radioactive decay example:\n",
    "The one-step advancement is given by:\n",
    "\\begin{equation} y_{i+1} = (1+\\alpha h)^{-1}y_i \\end{equation}\"\"\"))"
   ]
  },
  {
   "cell_type": "markdown",
   "id": "59f71eb7",
   "metadata": {},
   "source": [
    "\\begin{equation} y_{i+1} = y_i + h.f(t_i, y_i) \\end{equation} \n",
    "where, $y_i$ is the approximation of the function at $t_i$ and $h$ is the grid distance kept constant.\n",
    "\n",
    "Similarly, there exists Backwards Euler or Implicit Euler Method given as:\n",
    "\n",
    "\\begin{equation} y_{i+1} = y_i + hf(t_{i+1}, y_{i+1}) \\end{equation}\n",
    "\n",
    "The advantage of implicit schemes over explicit ones is that usually they allow a larger time step to be stable. They are then useful when dealing with a stiff problem. The problem is called stiff if its solution varies rapidly in time, so that certain numerical schemes require an extremely small time step for stability.\n",
    "\n",
    "Both forward and backward Euler is of the consistency of order 1, i.e $\\mathcal{O(h^1)}$\n",
    "\n",
    "We will now look at the difference between these two methods by taking a simple radioactive decay example:\n",
    "The one-step advancement is given by:\n",
    "\\begin{equation} y_{i+1} = (1+\\alpha h)^{-1}y_i \\end{equation}"
   ]
  },
  {
   "cell_type": "code",
   "execution_count": null,
   "id": "a4d7dc86",
   "metadata": {},
   "outputs": [],
   "source": []
  },
  {
   "cell_type": "code",
   "execution_count": 2,
   "id": "7c3ee4a1",
   "metadata": {},
   "outputs": [
    {
     "data": {
      "application/vnd.jupyter.widget-view+json": {
       "model_id": "96b5ae6dda43454ca388066f389bce0e",
       "version_major": 2,
       "version_minor": 0
      },
      "text/plain": [
       "interactive(children=(FloatSlider(value=1.0, description='Δt', max=3.0, min=0.1), Output()), _dom_classes=('wi…"
      ]
     },
     "metadata": {},
     "output_type": "display_data"
    },
    {
     "data": {
      "text/plain": [
       "<function __main__.solve_decay(dt)>"
      ]
     },
     "execution_count": 2,
     "metadata": {},
     "output_type": "execute_result"
    }
   ],
   "source": [
    "import numpy as np\n",
    "import matplotlib.pyplot as plt\n",
    "from ipywidgets import interact, FloatSlider\n",
    "import ipywidgets as widgets\n",
    "\n",
    "# Fixed parameters\n",
    "alpha = 0.25    # Exponential decay coefficient\n",
    "ti = 0.0        # Initial time\n",
    "tf = 15.0       # Final time\n",
    "Ni = 100        # Initial condition\n",
    "\n",
    "def solve_decay(dt):\n",
    "    nt = int((tf - ti) / dt)\n",
    "    t = np.arange(nt + 1) * dt\n",
    "    N = np.empty((nt + 1, 2))\n",
    "    N[0] = Ni, Ni\n",
    "    coef_imp = (1. + alpha * dt) ** (-1)\n",
    "\n",
    "    for i in range(nt):\n",
    "        # Forward Euler\n",
    "        N[i+1, 0] = N[i, 0] - alpha * N[i, 0] * dt\n",
    "        # Backward Euler\n",
    "        N[i+1, 1] = coef_imp * N[i, 1]\n",
    "\n",
    "    # Exact solution\n",
    "    Nexact = Ni * np.exp(-alpha * t)\n",
    "\n",
    "    # Plotting\n",
    "    plt.figure(figsize=(8, 6))\n",
    "    plt.plot(t, Nexact, label='Exact solution', linewidth=2)\n",
    "    plt.plot(t, N[:, 0], '^--', color='green', label='Forward Euler')\n",
    "    plt.plot(t, N[:, 1], 'o--', color='red', label='Backward Euler')\n",
    "\n",
    "    plt.xlabel('Time $t$')\n",
    "    plt.ylabel('$N$')\n",
    "    plt.title(f'Radioactive Decay ($\\\\Delta t = {dt}$)')\n",
    "    plt.grid(True)\n",
    "    plt.legend()\n",
    "    plt.xlim(t[0], tf)\n",
    "    plt.ylim(0, Ni + 10)\n",
    "    plt.show()\n",
    "\n",
    "# Create an interactive slider\n",
    "interact(solve_decay, dt=FloatSlider(value=1.0, min=0.1, max=3.0, step=0.1, description='Δt'))\n"
   ]
  },
  {
   "cell_type": "markdown",
   "id": "8c8b6fa4",
   "metadata": {},
   "source": [
    "Here we observe some interesting things. The solutions predicted by the explicit and implicit Euler schemes differ noticably. Even though they are both of the same order of accuracy, they are obviously not identical and the implicit Euler scheme matches the exact solution a bit better. Also, for the chosen time step, both methods are stable in this case. As the backward Euler uses the next value implicitly (using non-linear solver - see Banach fixed point iteration scheme), hence its more stable, i.e it does not blow up as compared to explicit scheme."
   ]
  },
  {
   "cell_type": "markdown",
   "id": "885dddda",
   "metadata": {},
   "source": [
    "## Example: Limits of Euler Scheme\n",
    "\n",
    "Now we will compare implicit and explicit Euler where the system becomes unstable and this is where our Runge-Kutta integrators comes into play.\n",
    "Let's consider another two dimensional example and analyze the motion of an object attached to a spring. The equation of motion reads:\n",
    "\n",
    "\\begin{equation} m\\frac{d^2 x}{d t^2}=-kx \\end{equation}\n",
    "\n",
    "\n",
    "where $x$ is the position of the object with respect to its equilibrium position and $k>0$ is the spring constant.\n",
    "\\begin{align} & \\frac{dx}{dt}=v,\\ & \\frac{dv}{dt}=-\\gamma^2 x, \\end{align} \n",
    "with $\\gamma = \\sqrt{k/m}$ \n",
    "\n",
    "For the forward Euler scheme we have:\n",
    "\n",
    "\n",
    "\n",
    "\\begin{align}\n",
    "\\begin{pmatrix}\n",
    "x^{n+1} \\\\\n",
    "v^{n+1}\n",
    "\\end{pmatrix}\n",
    "=\n",
    "\\begin{pmatrix}\n",
    "x^{n} \\\\\n",
    "v^{n}\n",
    "\\end{pmatrix}\n",
    "+\n",
    "dt \\cdot\n",
    "\\begin{pmatrix}\n",
    "0 & 1 \\\\\n",
    "-\\gamma^2 & 0\n",
    "\\end{pmatrix}\n",
    "\\begin{pmatrix}\n",
    "x^{n} \\\\\n",
    "v^{n}\n",
    "\\end{pmatrix}\n",
    "\\end{align}"
   ]
  },
  {
   "cell_type": "code",
   "execution_count": 3,
   "id": "ed65e955",
   "metadata": {},
   "outputs": [],
   "source": [
    "k = 2.    # spring constant\n",
    "m = 1.    # object's mass\n",
    "x0 = 0.75 # initial position\n",
    "v0 = 0.   # initial velocity\n",
    "ti = 0.   # initial time\n",
    "tf = 40.0 # final time at which the solution is computed\n",
    "dt = 0.15 # time step\n",
    "\n",
    "# Let's first compute gamma and the number\n",
    "# of time steps.\n",
    "gamma = np.sqrt(k/m)\n",
    "nt = int((tf-ti)/dt)\n",
    "\n",
    "# Create a numpy array containing the\n",
    "# intermediate values of y, including\n",
    "# those at ti and tf.\n",
    "y = np.empty((nt+1, 2))\n",
    "\n",
    "# Store initial condition in the first row\n",
    "# of y.\n",
    "y[0] = x0, v0\n",
    "\n",
    "# Create matrix L.\n",
    "L = np.array([[0., 1.], [-gamma**2, 0.]])\n",
    "\n",
    "# Perform the time stepping.\n",
    "for i in range(nt):\n",
    "    y[i+1] = y[i] + np.dot(L, y[i])*dt\n",
    "\n",
    "\n",
    "# Store nt time steps.\n",
    "t = np.arange(nt+1) * dt\n",
    "\n"
   ]
  },
  {
   "cell_type": "code",
   "execution_count": 4,
   "id": "cd902ab3",
   "metadata": {},
   "outputs": [],
   "source": [
    "# We have to redefine time parameters\n",
    "# again, as they got overwritten.\n",
    "ti = 0.    # initial time\n",
    "tf = 40.0  # final time at which the solution is computed\n",
    "dt = 0.15  # time step\n",
    "\n",
    "# Recompute the number of time steps and\n",
    "# the time array.\n",
    "nt = int((tf-ti)/dt)\n",
    "\n",
    "t = np.arange(nt+1) * dt\n",
    "\n",
    "y_imp = np.empty((nt+1, 2))\n",
    "\n",
    "# Store initial condition in the first row\n",
    "# of y.\n",
    "y_imp[0] = x0, v0\n",
    "\n",
    "# As the matrix that advances the solution\n",
    "# does not depend on t, we compute it\n",
    "# right away.\n",
    "# To do this, we use the linalg.inv function of numpy.\n",
    "#\n",
    "# For more info\n",
    "# https://numpy.org/doc/stable/reference/generated/numpy.linalg.inv.html\n",
    "L_imp = np.linalg.inv(np.array([[1., -dt], [gamma**2*dt, 1.]]))\n",
    "\n",
    "# Perform the time stepping. dt is hidden\n",
    "# in L_imp, so it does appear here.\n",
    "for i in range(nt):\n",
    "    y_imp[i+1] = np.dot(L_imp, y_imp[i])\n",
    "\n",
    "\n",
    "\n",
    "\n"
   ]
  },
  {
   "cell_type": "code",
   "execution_count": null,
   "id": "e2a581dc",
   "metadata": {},
   "outputs": [
    {
     "data": {
      "application/vnd.jupyter.widget-view+json": {
       "model_id": "2fb87616a94c4527b39a5723606f7117",
       "version_major": 2,
       "version_minor": 0
      },
      "text/plain": [
       "interactive(children=(FloatSlider(value=0.15, description='Δt', max=1.0, min=0.01, step=0.01), Output()), _dom…"
      ]
     },
     "metadata": {},
     "output_type": "display_data"
    }
   ],
   "source": [
    "import numpy as np\n",
    "import matplotlib.pyplot as plt\n",
    "from ipywidgets import interact, FloatSlider\n",
    "\n",
    "# System parameters\n",
    "k = 2.     # spring constant\n",
    "m = 1.     # mass\n",
    "x0 = 0.75  # initial position\n",
    "v0 = 0.0   # initial velocity\n",
    "ti = 0.    # start time\n",
    "tf = 40.0  # end time\n",
    "gamma = np.sqrt(k/m)  # angular frequency\n",
    "\n",
    "\n",
    "def exact_solution(t):\n",
    "    \"\"\"Compute the exact position and velocity for harmonic oscillator.\"\"\"\n",
    "    x_exact = x0 * np.cos(gamma * t) + (v0 / gamma) * np.sin(gamma * t)\n",
    "    v_exact = -x0 * gamma * np.sin(gamma * t) + v0 * np.cos(gamma * t)\n",
    "    return x_exact, v_exact\n",
    "\n",
    "\n",
    "def simulate(dt):\n",
    "    nt = int((tf - ti) / dt)\n",
    "    t = np.linspace(ti, tf, nt + 1)\n",
    "    t_exact = np.linspace(0,20,100)\n",
    "\n",
    "    # Exact\n",
    "    x_exact, v_exact = exact_solution(t_exact)\n",
    "\n",
    "    # Forward Euler (Explicit)\n",
    "    y_fwd = np.empty((nt + 1, 2))\n",
    "    y_fwd[0] = x0, v0\n",
    "    L_fwd = np.array([[0., 1.], [-gamma**2, 0.]])\n",
    "    for i in range(nt):\n",
    "        y_fwd[i+1] = y_fwd[i] + np.dot(L_fwd, y_fwd[i]) * dt\n",
    "\n",
    "    # Backward Euler (Implicit)\n",
    "    y_bwd = np.empty((nt + 1, 2))\n",
    "    y_bwd[0] = x0, v0\n",
    "    L_bwd = np.linalg.inv(np.array([[1., -dt], [gamma**2 * dt, 1.]]))\n",
    "    for i in range(nt):\n",
    "        y_bwd[i+1] = np.dot(L_bwd, y_bwd[i])\n",
    "\n",
    "    # Plotting\n",
    "    fig, ax = plt.subplots(1, 2, figsize=(14, 5))\n",
    "\n",
    "    # Velocity\n",
    "    ax[0].plot(t_exact, v_exact, label='Exact', color='black')\n",
    "    ax[0].plot(t, y_fwd[:, 1], '--', label='Forward Euler', color='green')\n",
    "    ax[0].plot(t, y_bwd[:, 1], ':', label='Backward Euler', color='red')\n",
    "    ax[0].set_title(\"Velocity vs Time\")\n",
    "    ax[0].set_xlabel(\"$t$\")\n",
    "    ax[0].set_ylabel(\"$v(t)$\")\n",
    "    ax[0].legend()\n",
    "    ax[0].grid(True)\n",
    "\n",
    "    # Position\n",
    "    ax[1].plot(t_exact, x_exact, label='Exact', color='black')\n",
    "    ax[1].plot(t, y_fwd[:, 0], '--', label='Forward Euler', color='green')\n",
    "    ax[1].plot(t, y_bwd[:, 0], ':', label='Backward Euler', color='red')\n",
    "    ax[1].set_title(\"Position vs Time\")\n",
    "    ax[1].set_xlabel(\"$t$\")\n",
    "    ax[1].set_ylabel(\"$x(t)$\")\n",
    "    ax[1].legend()\n",
    "    ax[1].grid(True)\n",
    "\n",
    "    for axis in ax:\n",
    "        axis.set_xlim(0, min(tf, 20))\n",
    "        axis.set_ylim(-2, 2)\n",
    "\n",
    "    plt.tight_layout()\n",
    "    plt.show()\n",
    "\n",
    "\n",
    "# Interactive widget\n",
    "interact(simulate, dt=FloatSlider(value=0.15, min=0.01, max=1.0, step=0.01, description='Δt'));\n"
   ]
  },
  {
   "cell_type": "markdown",
   "id": "5cf93822",
   "metadata": {},
   "source": [
    "One can clearly see, that the timesteps needs to be as small as possible. Yet, when the time domain is large, even the approximation diverges more from the exact solution. Hence we will now look at some more efficient time advancement schemes which have both better accuracy and larger domains of stability. They are known as Runge Kutta schemes."
   ]
  },
  {
   "cell_type": "markdown",
   "id": "91fb041e",
   "metadata": {},
   "source": [
    "## Runge-Kutta 4th Order scheme\n",
    "\n",
    "We will particularly look at Runge-Kutta 4th Order scheme.\n",
    "\n",
    "Consider our taylor series again where this time the function is being approximated upto the 4th order: \n",
    "\n",
    "\\begin{equation} y(t + h)\\approx y(t)+y'(t)h+\\frac{y''(t)}{2!}h^2 + \\frac{y'''(t)}{3!}h^3 + \\frac{y''''(t)}{4!}h^4 + \\mathcal{O}(h^{5})\\end{equation}\n",
    "\n",
    "The basic idea is, instead of looking for higher order derivatives, we will substitute them with slopes and hence in numerical representation, the above equation will look as follows:\n",
    "\n",
    "\\begin{equation} y_{i+1} = y_i + h.(a_1k_1 + a_2k_2 + a_3k_3 + a_4k_4) \\end{equation} \n",
    "where $a_i$ are weights/coefficients and $k_i$ are slopes.\n",
    "Mathematically, \n",
    "$\\sum_i a_i = 1$\n",
    "and slopes are defined as:\n",
    "\n",
    "\\begin{align*}\n",
    "k_1 &= f(t_n, y_n) \\\\\n",
    "k_2 &= f\\left(t_n + \\frac{h}{2},\\, y_n + \\frac{h}{2}k_1\\right) \\\\\n",
    "k_3 &= f\\left(t_n + \\frac{h}{2},\\, y_n + \\frac{h}{2}k_2\\right) \\\\\n",
    "k_4 &= f\\left(t_n + h,\\, y_n + hk_3\\right) \\\\\n",
    "y_{n+1} &= y_n + \\frac{h}{6}(k_1 + 2k_2 + 2k_3 + k_4)\n",
    "\\end{align*}\n",
    "\n",
    "Intuitively, one can think, one slope is built on the previous one and for the next step, we need to take the average of the slopes.\n",
    "The coefficients can be found by looking at Butcher Tableau as shown below. This process is part of what’s called Butcher’s theory — it involves matching Taylor series expansions to determine the coefficients such that the method achieves a desired order of accuracy.\n",
    "\n",
    "\\begin{array}{c|cccc}\n",
    "0   &       &       &       &      \\\\\n",
    "\\frac{1}{2} & \\frac{1}{2} &       &       &      \\\\\n",
    "\\frac{1}{2} & 0     & \\frac{1}{2} &       &      \\\\\n",
    "1   & 0     & 0     & 1     &      \\\\\n",
    "\\hline\n",
    "    & \\frac{1}{6} & \\frac{1}{3} & \\frac{1}{3} & \\frac{1}{6}\n",
    "\\end{array}\n",
    "\n",
    "\n",
    "\n"
   ]
  },
  {
   "cell_type": "code",
   "execution_count": null,
   "id": "4dbba406",
   "metadata": {},
   "outputs": [
    {
     "data": {
      "application/vnd.jupyter.widget-view+json": {
       "model_id": "352882acf5a84b72a6c7e09f176fc9c5",
       "version_major": 2,
       "version_minor": 0
      },
      "text/plain": [
       "interactive(children=(FloatSlider(value=0.15, description='Δt', max=1.0, min=0.01, step=0.01), Output()), _dom…"
      ]
     },
     "metadata": {},
     "output_type": "display_data"
    }
   ],
   "source": [
    "import numpy as np\n",
    "import matplotlib.pyplot as plt\n",
    "from ipywidgets import interact, FloatSlider\n",
    "\n",
    "# System parameters\n",
    "k = 2.     # spring constant\n",
    "m = 1.     # mass\n",
    "x0 = 0.75  # initial position\n",
    "v0 = 0.0   # initial velocity\n",
    "ti = 0.    # start time\n",
    "tf = 40.0  # end time\n",
    "gamma = np.sqrt(k/m)  # angular frequency\n",
    "\n",
    "\n",
    "def exact_solution(t):\n",
    "    \"\"\"Compute the exact position and velocity for harmonic oscillator.\"\"\"\n",
    "    x_exact = x0 * np.cos(gamma * t) + (v0 / gamma) * np.sin(gamma * t)\n",
    "    v_exact = -x0 * gamma * np.sin(gamma * t) + v0 * np.cos(gamma * t)\n",
    "    return x_exact, v_exact\n",
    "\n",
    "\n",
    "def rk4_step(y, dt):\n",
    "    \"\"\"Perform one RK4 step for the system y' = L y.\"\"\"\n",
    "    L = np.array([[0., 1.], [-gamma**2, 0.]])\n",
    "    \n",
    "    k1 = np.dot(L, y)\n",
    "    k2 = np.dot(L, y + 0.5 * dt * k1)\n",
    "    k3 = np.dot(L, y + 0.5 * dt * k2)\n",
    "    k4 = np.dot(L, y + dt * k3)\n",
    "    \n",
    "    return y + (dt/6.0)*(k1 + 2*k2 + 2*k3 + k4)\n",
    "\n",
    "\n",
    "def simulate(dt):\n",
    "    nt = int((tf - ti) / dt)\n",
    "    t = np.linspace(ti, tf, nt + 1)\n",
    "    t_exact = np.linspace(0, 20, 100)\n",
    "\n",
    "    # Exact solution\n",
    "    x_exact, v_exact = exact_solution(t_exact)\n",
    "\n",
    "    # Forward Euler (Explicit)\n",
    "    y_fwd = np.empty((nt + 1, 2))\n",
    "    y_fwd[0] = x0, v0\n",
    "    L_fwd = np.array([[0., 1.], [-gamma**2, 0.]])\n",
    "    for i in range(nt):\n",
    "        y_fwd[i+1] = y_fwd[i] + np.dot(L_fwd, y_fwd[i]) * dt\n",
    "\n",
    "    # Backward Euler (Implicit)\n",
    "    y_bwd = np.empty((nt + 1, 2))\n",
    "    y_bwd[0] = x0, v0\n",
    "    L_bwd = np.linalg.inv(np.array([[1., -dt], [gamma**2 * dt, 1.]]))\n",
    "    for i in range(nt):\n",
    "        y_bwd[i+1] = np.dot(L_bwd, y_bwd[i])\n",
    "\n",
    "    # RK4 Method\n",
    "    y_rk4 = np.empty((nt + 1, 2))\n",
    "    y_rk4[0] = x0, v0\n",
    "    for i in range(nt):\n",
    "        y_rk4[i+1] = rk4_step(y_rk4[i], dt)\n",
    "\n",
    "    # Plotting\n",
    "    fig, ax = plt.subplots(1, 2, figsize=(14, 5))\n",
    "\n",
    "    # Velocity plot\n",
    "    ax[0].plot(t_exact, v_exact, label='Exact', color='black')\n",
    "    ax[0].plot(t, y_fwd[:, 1], '--', label='Forward Euler', color='green')\n",
    "    ax[0].plot(t, y_bwd[:, 1], ':', label='Backward Euler', color='red')\n",
    "    ax[0].plot(t, y_rk4[:, 1], '-.', label='RK4', color='blue')\n",
    "    ax[0].set_title(\"Velocity vs Time\")\n",
    "    ax[0].set_xlabel(\"$t$\")\n",
    "    ax[0].set_ylabel(\"$v(t)$\")\n",
    "    ax[0].legend()\n",
    "    ax[0].grid(True)\n",
    "\n",
    "    # Position plot\n",
    "    ax[1].plot(t_exact, x_exact, label='Exact', color='black')\n",
    "    ax[1].plot(t, y_fwd[:, 0], '--', label='Forward Euler', color='green')\n",
    "    ax[1].plot(t, y_bwd[:, 0], ':', label='Backward Euler', color='red')\n",
    "    ax[1].plot(t, y_rk4[:, 0], '-.', label='RK4', color='blue')\n",
    "    ax[1].set_title(\"Position vs Time\")\n",
    "    ax[1].set_xlabel(\"$t$\")\n",
    "    ax[1].set_ylabel(\"$x(t)$\")\n",
    "    ax[1].legend()\n",
    "    ax[1].grid(True)\n",
    "\n",
    "    for axis in ax:\n",
    "        axis.set_xlim(0, min(tf, 20))\n",
    "        axis.set_ylim(-2, 2)\n",
    "\n",
    "    plt.tight_layout()\n",
    "    plt.show()\n",
    "import importlib.metadata\n",
    "def list_requirements():\n",
    "    libraries = [\"numpy\", \"matplotlib\", \"scikit-learn\", \"ipywidgets\"]\n",
    "    for lib in libraries:\n",
    "        version = importlib.metadata.version(lib)\n",
    "        print(f\"{lib}=={version}\")\n",
    "\n",
    "#list_requirements()\n",
    "# Interactive widget\n",
    "interact(simulate, dt=FloatSlider(value=0.15, min=0.01, max=1.0, step=0.01, description='Δt'));\n"
   ]
  },
  {
   "cell_type": "markdown",
   "id": "5dd29f98",
   "metadata": {},
   "source": [
    "Can you see the difference? The accuracy of the RK4 method is $\\mathcal{O}(h^4)$, meaning if you reduced the step size from $h = 0.1$ to $h= 10^{-2}$, the accuracy jumps from $10^{-4}$  to $10^{-8}$!!\n",
    "\n",
    "Further reading can be seen why higher order RK methods are not applied - there are certain trade-offs that makes their usage trivial. Although there are libraries in Matlab and Python which uses modified RK methods of higher order too!"
   ]
  }
 ],
 "metadata": {
  "kernelspec": {
   "display_name": "myenv",
   "language": "python",
   "name": "python3"
  },
  "language_info": {
   "codemirror_mode": {
    "name": "ipython",
    "version": 3
   },
   "file_extension": ".py",
   "mimetype": "text/x-python",
   "name": "python",
   "nbconvert_exporter": "python",
   "pygments_lexer": "ipython3",
   "version": "3.12.0"
  }
 },
 "nbformat": 4,
 "nbformat_minor": 5
}
